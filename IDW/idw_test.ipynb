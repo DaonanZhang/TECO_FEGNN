{
 "cells": [
  {
   "cell_type": "code",
   "execution_count": 2,
   "id": "cdfda2da-4b54-4952-b88f-118963d97645",
   "metadata": {},
   "outputs": [
    {
     "name": "stdout",
     "output_type": "stream",
     "text": [
      "Working on single-GPU\n",
      "Length of df dict: 4015\n",
      "Length of call list: 39424\n",
      "length of the eval: 1232\n",
      "\t\t--------\n",
      "\t\tr_squared: 0.6883096009950131, MAE: 5.400232\n",
      "\t\t--------\n",
      "\n",
      "\t\t--------\n",
      "\t\tDiffer: 63.6229248046875, count: 39424\n",
      "\t\t--------\n",
      "\n"
     ]
    },
    {
     "name": "stderr",
     "output_type": "stream",
     "text": [
      "/home/kit/stud/uqqww/.local/lib/python3.9/site-packages/mpl_scatter_density/generic_density_artist.py:77: RuntimeWarning: All-NaN slice encountered\n",
      "  vmin = self._density_vmin(array)\n",
      "/home/kit/stud/uqqww/.local/lib/python3.9/site-packages/mpl_scatter_density/generic_density_artist.py:82: RuntimeWarning: All-NaN slice encountered\n",
      "  vmax = self._density_vmax(array)\n"
     ]
    },
    {
     "name": "stdout",
     "output_type": "stream",
     "text": [
      "Length of df dict: 4015\n",
      "Length of call list: 39424\n",
      "length of the eval: 1232\n",
      "\t\t--------\n",
      "\t\tr_squared: 0.6892982986731515, MAE: 5.398729\n",
      "\t\t--------\n",
      "\n",
      "\t\t--------\n",
      "\t\tDiffer: 63.6229248046875, count: 39424\n",
      "\t\t--------\n",
      "\n"
     ]
    },
    {
     "name": "stderr",
     "output_type": "stream",
     "text": [
      "/home/kit/stud/uqqww/.local/lib/python3.9/site-packages/mpl_scatter_density/generic_density_artist.py:77: RuntimeWarning: All-NaN slice encountered\n",
      "  vmin = self._density_vmin(array)\n",
      "/home/kit/stud/uqqww/.local/lib/python3.9/site-packages/mpl_scatter_density/generic_density_artist.py:82: RuntimeWarning: All-NaN slice encountered\n",
      "  vmax = self._density_vmax(array)\n"
     ]
    },
    {
     "name": "stdout",
     "output_type": "stream",
     "text": [
      "Length of df dict: 4015\n",
      "Length of call list: 39424\n",
      "length of the eval: 1232\n",
      "\t\t--------\n",
      "\t\tr_squared: 0.6768352357818926, MAE: 5.4817734\n",
      "\t\t--------\n",
      "\n",
      "\t\t--------\n",
      "\t\tDiffer: 60.451995849609375, count: 39424\n",
      "\t\t--------\n",
      "\n"
     ]
    },
    {
     "name": "stderr",
     "output_type": "stream",
     "text": [
      "/home/kit/stud/uqqww/.local/lib/python3.9/site-packages/mpl_scatter_density/generic_density_artist.py:77: RuntimeWarning: All-NaN slice encountered\n",
      "  vmin = self._density_vmin(array)\n",
      "/home/kit/stud/uqqww/.local/lib/python3.9/site-packages/mpl_scatter_density/generic_density_artist.py:82: RuntimeWarning: All-NaN slice encountered\n",
      "  vmax = self._density_vmax(array)\n"
     ]
    },
    {
     "name": "stdout",
     "output_type": "stream",
     "text": [
      "Working on single-GPU\n",
      "Length of df dict: 4015\n",
      "Length of call list: 10240\n",
      "length of the eval: 320\n",
      "\t\t--------\n",
      "\t\tr_squared: 0.16044962279941294, MAE: 9.18891\n",
      "\t\t--------\n",
      "\n",
      "\t\t--------\n",
      "\t\tDiffer: 76.5774154663086, count: 10240\n",
      "\t\t--------\n",
      "\n"
     ]
    },
    {
     "name": "stderr",
     "output_type": "stream",
     "text": [
      "/home/kit/stud/uqqww/.local/lib/python3.9/site-packages/mpl_scatter_density/generic_density_artist.py:77: RuntimeWarning: All-NaN slice encountered\n",
      "  vmin = self._density_vmin(array)\n",
      "/home/kit/stud/uqqww/.local/lib/python3.9/site-packages/mpl_scatter_density/generic_density_artist.py:82: RuntimeWarning: All-NaN slice encountered\n",
      "  vmax = self._density_vmax(array)\n"
     ]
    },
    {
     "name": "stdout",
     "output_type": "stream",
     "text": [
      "Length of df dict: 4015\n",
      "Length of call list: 10240\n",
      "length of the eval: 320\n",
      "\t\t--------\n",
      "\t\tr_squared: 0.18502279352181353, MAE: 9.3431\n",
      "\t\t--------\n",
      "\n",
      "\t\t--------\n",
      "\t\tDiffer: 60.85147476196289, count: 10240\n",
      "\t\t--------\n",
      "\n"
     ]
    },
    {
     "name": "stderr",
     "output_type": "stream",
     "text": [
      "/home/kit/stud/uqqww/.local/lib/python3.9/site-packages/mpl_scatter_density/generic_density_artist.py:77: RuntimeWarning: All-NaN slice encountered\n",
      "  vmin = self._density_vmin(array)\n",
      "/home/kit/stud/uqqww/.local/lib/python3.9/site-packages/mpl_scatter_density/generic_density_artist.py:82: RuntimeWarning: All-NaN slice encountered\n",
      "  vmax = self._density_vmax(array)\n"
     ]
    },
    {
     "name": "stdout",
     "output_type": "stream",
     "text": [
      "Length of df dict: 4015\n",
      "Length of call list: 10240\n",
      "length of the eval: 320\n",
      "\t\t--------\n",
      "\t\tr_squared: 0.2093043603566855, MAE: 9.299449\n",
      "\t\t--------\n",
      "\n",
      "\t\t--------\n",
      "\t\tDiffer: 60.85147476196289, count: 10240\n",
      "\t\t--------\n",
      "\n"
     ]
    },
    {
     "name": "stderr",
     "output_type": "stream",
     "text": [
      "/home/kit/stud/uqqww/.local/lib/python3.9/site-packages/mpl_scatter_density/generic_density_artist.py:77: RuntimeWarning: All-NaN slice encountered\n",
      "  vmin = self._density_vmin(array)\n",
      "/home/kit/stud/uqqww/.local/lib/python3.9/site-packages/mpl_scatter_density/generic_density_artist.py:82: RuntimeWarning: All-NaN slice encountered\n",
      "  vmax = self._density_vmax(array)\n"
     ]
    },
    {
     "name": "stdout",
     "output_type": "stream",
     "text": [
      "Working on single-GPU\n",
      "Length of df dict: 4015\n",
      "Length of call list: 39424\n",
      "length of the eval: 1232\n",
      "\t\t--------\n",
      "\t\tr_squared: 0.6757297809582526, MAE: 4.6708493\n",
      "\t\t--------\n",
      "\n",
      "\t\t--------\n",
      "\t\tDiffer: 52.2850456237793, count: 39424\n",
      "\t\t--------\n",
      "\n"
     ]
    },
    {
     "name": "stderr",
     "output_type": "stream",
     "text": [
      "/home/kit/stud/uqqww/.local/lib/python3.9/site-packages/mpl_scatter_density/generic_density_artist.py:77: RuntimeWarning: All-NaN slice encountered\n",
      "  vmin = self._density_vmin(array)\n",
      "/home/kit/stud/uqqww/.local/lib/python3.9/site-packages/mpl_scatter_density/generic_density_artist.py:82: RuntimeWarning: All-NaN slice encountered\n",
      "  vmax = self._density_vmax(array)\n"
     ]
    },
    {
     "name": "stdout",
     "output_type": "stream",
     "text": [
      "Length of df dict: 4015\n",
      "Length of call list: 39424\n",
      "length of the eval: 1232\n",
      "\t\t--------\n",
      "\t\tr_squared: 0.6757552687054351, MAE: 4.678485\n",
      "\t\t--------\n",
      "\n",
      "\t\t--------\n",
      "\t\tDiffer: 51.665916442871094, count: 39424\n",
      "\t\t--------\n",
      "\n"
     ]
    },
    {
     "name": "stderr",
     "output_type": "stream",
     "text": [
      "/home/kit/stud/uqqww/.local/lib/python3.9/site-packages/mpl_scatter_density/generic_density_artist.py:77: RuntimeWarning: All-NaN slice encountered\n",
      "  vmin = self._density_vmin(array)\n",
      "/home/kit/stud/uqqww/.local/lib/python3.9/site-packages/mpl_scatter_density/generic_density_artist.py:82: RuntimeWarning: All-NaN slice encountered\n",
      "  vmax = self._density_vmax(array)\n"
     ]
    },
    {
     "name": "stdout",
     "output_type": "stream",
     "text": [
      "Length of df dict: 4015\n",
      "Length of call list: 39424\n",
      "length of the eval: 1232\n",
      "\t\t--------\n",
      "\t\tr_squared: 0.6682323803951841, MAE: 4.747456\n",
      "\t\t--------\n",
      "\n",
      "\t\t--------\n",
      "\t\tDiffer: 49.74597930908203, count: 39424\n",
      "\t\t--------\n",
      "\n"
     ]
    },
    {
     "name": "stderr",
     "output_type": "stream",
     "text": [
      "/home/kit/stud/uqqww/.local/lib/python3.9/site-packages/mpl_scatter_density/generic_density_artist.py:77: RuntimeWarning: All-NaN slice encountered\n",
      "  vmin = self._density_vmin(array)\n",
      "/home/kit/stud/uqqww/.local/lib/python3.9/site-packages/mpl_scatter_density/generic_density_artist.py:82: RuntimeWarning: All-NaN slice encountered\n",
      "  vmax = self._density_vmax(array)\n"
     ]
    },
    {
     "data": {
      "text/plain": [
       "<Figure size 640x480 with 0 Axes>"
      ]
     },
     "metadata": {},
     "output_type": "display_data"
    }
   ],
   "source": [
    "import pickle\n",
    "\n",
    "import torch\n",
    "from matplotlib import pyplot as plt\n",
    "\n",
    "import Dataloader_idw_baseline as dl\n",
    "import myconfig_idw_baseline as myconfig\n",
    "import solver\n",
    "import support_functions\n",
    "\n",
    "import json\n",
    "import torch\n",
    "import os\n",
    "import random\n",
    "import pickle\n",
    "import pandas as pd\n",
    "import numpy as np\n",
    "from torch.utils.data import Dataset\n",
    "from sklearn.metrics import mean_absolute_error, mean_squared_error, mean_absolute_percentage_error\n",
    "from scipy import stats\n",
    "\n",
    "def main(hold_out, seed):\n",
    "    settings = {\n",
    "        'agent_id': '00000',\n",
    "        'agent_dir': './logs',\n",
    "        'origin_path': './Dataset_res250_reg4c/',\n",
    "        'debug': False,\n",
    "        'bp': False,\n",
    "\n",
    "        'batch': 32,\n",
    "        'accumulation_steps': 1,\n",
    "        'epoch': 1000,\n",
    "        'test_batch': 64,\n",
    "        'nn_lr': 1e-5,\n",
    "        'es_mindelta': 0.5,\n",
    "        'es_endure': 10,\n",
    "        'model': 'PEGNN',\n",
    "        'lowest_rank': 1,\n",
    "    }\n",
    "\n",
    "    job_id = f\"{hold_out}_{seed}\"\n",
    "    \n",
    "    settings['fold'] = 4\n",
    "    settings['seed'] = seed\n",
    "    settings['holdout'] = hold_out\n",
    "\n",
    "    support_functions.seed_everything(settings['seed'])\n",
    "    \n",
    "    fold = settings['fold']\n",
    "    holdout = settings['holdout']\n",
    "    lowest_rank = settings['lowest_rank']\n",
    "    \n",
    "    coffer_dir = ''\n",
    "    dirs = os.listdir(myconfig.coffer_path)\n",
    "\n",
    "    dirs.sort()\n",
    "    for dir in dirs:\n",
    "        if job_id in dir:\n",
    "            coffer_dir = myconfig.coffer_path + dir + f'/{fold}/'\n",
    "            if not os.path.exists(coffer_dir):\n",
    "                os.mkdir(coffer_dir)\n",
    "            else:\n",
    "                pass\n",
    "\n",
    "    # Get device setting\n",
    "    if not torch.cuda.is_available(): \n",
    "        device = torch.device(\"cpu\")\n",
    "        ngpu = 0\n",
    "        print(f'Working on CPU')\n",
    "    else:\n",
    "        device = torch.device(\"cuda\")\n",
    "        ngpu = torch.cuda.device_count()\n",
    "        if ngpu > 1:\n",
    "            device_list = [i for i in range(ngpu)]\n",
    "            print(f'Working on multi-GPU {device_list}')\n",
    "        else:\n",
    "            print(f'Working on single-GPU')\n",
    "            \n",
    "    with open(settings['origin_path'] + f\"Folds_Info/norm_{settings['fold']}_{settings['holdout']}.json\", 'r') as f:\n",
    "        dic_op_minmax = json.load(f)\n",
    "   \n",
    "\n",
    "    for mask_distance in [0, 10, 50]:\n",
    "        dataset_eval = dl.IntpDataset(settings=settings, mask_distance=mask_distance, call_name='eval')\n",
    "        dataloader_ev = torch.utils.data.DataLoader(dataset_eval, batch_size=settings['batch'], shuffle=False, collate_fn=dl.collate_fn, num_workers=2, prefetch_factor=4, drop_last=True)\n",
    "\n",
    "\n",
    "        output_list = []\n",
    "        target_list = []\n",
    "\n",
    "        len_eval = len(dataloader_ev)\n",
    "        print(f\"length of the eval: {len_eval}\")\n",
    "       \n",
    "        for x_b, c_b, y_b, input_lengths in dataloader_ev:\n",
    "            \n",
    "            x_b, c_b, y_b, input_lengths = x_b.to(device), c_b.to(device), y_b.to(device), input_lengths.to(device)\n",
    "\n",
    "            \n",
    "            outputs_b = x_b[:,0,0]\n",
    "            \n",
    "            targets_b = y_b[:,0,0]\n",
    "\n",
    "            # print(f' features_value {outputs_b} answers_value {targets_b}')\n",
    "            \n",
    "            output_list.append(outputs_b.detach().cpu())\n",
    "            target_list.append(targets_b.detach().cpu())\n",
    "                    \n",
    "        output = torch.cat(output_list).squeeze()\n",
    "        target = torch.cat(target_list).squeeze()\n",
    "\n",
    "        # -----------------restore result-----------------\n",
    "        min_val = dic_op_minmax['mcpm10'][0]\n",
    "        max_val = dic_op_minmax['mcpm10'][1]\n",
    "        test_means_origin = output * (max_val - min_val) + min_val\n",
    "        test_y_origin = target * (max_val - min_val) + min_val\n",
    "\n",
    "\n",
    "        # Mean Absolute Error\n",
    "        # mse = mean_squared_error(test_y_origin, test_means_origin, squared=False)\n",
    "        mae = mean_absolute_error(test_y_origin, test_means_origin)\n",
    "        r_squared = stats.pearsonr(test_y_origin, test_means_origin)\n",
    "\n",
    "        # rtn_mae_list.append(float(mae))\n",
    "        # rtn_rsq_list.append(float(r_squared[0]))\n",
    "\n",
    "        print(f'\\t\\t--------\\n\\t\\tr_squared: {str(r_squared[0])}, MAE: {str(mae)}\\n\\t\\t--------\\n')\n",
    "        print(f'\\t\\t--------\\n\\t\\tDiffer: {test_means_origin.max() - test_means_origin.min()}, count: {test_y_origin.size(0)}\\n\\t\\t--------\\n')\n",
    "\n",
    "        title = f'Fold{fold}_holdout{holdout}_Md{mask_distance}: MAE {round(mae, 2)} R2 {round(r_squared[0], 2)}'\n",
    "        \n",
    "        support_functions.save_square_img(\n",
    "            contents=[test_y_origin.numpy(), test_means_origin.numpy()], \n",
    "            xlabel='targets_ex', ylabel='output_ex', \n",
    "            savename=os.path.join(coffer_dir, f'result_{mask_distance}'),\n",
    "            title=title\n",
    "        )\n",
    "        targets_ex = test_y_origin.unsqueeze(1)\n",
    "        output_ex = test_means_origin.unsqueeze(1)\n",
    "        diff_ex = targets_ex - output_ex\n",
    "        \n",
    "        pd_out = pd.DataFrame(\n",
    "            torch.cat(\n",
    "                (targets_ex, output_ex, diff_ex), 1\n",
    "            ).numpy()\n",
    "        )\n",
    "        pd_out.columns = ['Target', 'Output', 'Diff']\n",
    "        \n",
    "        pd_out.to_csv(os.path.join(coffer_dir, f'result_{mask_distance}.csv'), index=False)\n",
    "\n",
    "\n",
    "def make_dir(path):\n",
    "    try:\n",
    "        os.mkdir(path)\n",
    "    except:\n",
    "        pass\n",
    "\n",
    "\n",
    "if __name__ == \"__main__\":\n",
    "    hold_out_list = [1,2,3]\n",
    "    seed_list = [1]  \n",
    "\n",
    "    for hold_out_i in hold_out_list:\n",
    "        for seed_i in seed_list:\n",
    "            \n",
    "            job_id = f\"{hold_out_i}_{seed_i}\"\n",
    "            \n",
    "            coffer_slot = myconfig.coffer_path + str(job_id) + '/'\n",
    "            make_dir(coffer_slot)\n",
    "            \n",
    "            main(hold_out_i, seed_i)\n",
    "\n"
   ]
  },
  {
   "cell_type": "code",
   "execution_count": null,
   "id": "2525fb52-23a2-49fe-a79b-e04c894a61a0",
   "metadata": {},
   "outputs": [],
   "source": []
  },
  {
   "cell_type": "code",
   "execution_count": null,
   "id": "9cbd37d6-edfe-4c67-9dd3-b891d9675e18",
   "metadata": {},
   "outputs": [],
   "source": []
  }
 ],
 "metadata": {
  "kernelspec": {
   "display_name": "ml_3",
   "language": "python",
   "name": "ml_3"
  },
  "language_info": {
   "codemirror_mode": {
    "name": "ipython",
    "version": 3
   },
   "file_extension": ".py",
   "mimetype": "text/x-python",
   "name": "python",
   "nbconvert_exporter": "python",
   "pygments_lexer": "ipython3",
   "version": "3.9.19"
  }
 },
 "nbformat": 4,
 "nbformat_minor": 5
}
